{
 "cells": [
  {
   "cell_type": "markdown",
   "id": "f6ce7743",
   "metadata": {},
   "source": [
    "## 네이버 AI어플리케이션 기반 뉴스 핵심 요약 및 분석\n",
    "\n",
    "\n",
    "활용엔진 \n",
    "  - 번역 : 파파고 \n",
    "  - 요약 : 클로바 \n",
    "  - 감성분석 : 클로바     \n",
    "  \n",
    "업데이트 내역 \n",
    "  - 2022-05-18 (hanhoman)\n",
    "  \n",
    "분석 플랫폼\n",
    "  - 네이버 클라우드"
   ]
  },
  {
   "cell_type": "code",
   "execution_count": 1,
   "id": "7ccf7138",
   "metadata": {},
   "outputs": [],
   "source": [
    "import sys\n",
    "import requests\n",
    "import json"
   ]
  },
  {
   "cell_type": "code",
   "execution_count": 4,
   "id": "0432b20e",
   "metadata": {},
   "outputs": [],
   "source": [
    "client_id = \"HERE'S YOUR KEY\"\n",
    "client_secret = \"HERE'S YOUR KEY\""
   ]
  },
  {
   "cell_type": "code",
   "execution_count": 2,
   "id": "26e43370",
   "metadata": {},
   "outputs": [],
   "source": [
    "def ai_news(title, content, lan=\"ko\", printout=True, get_return=True):\n",
    "    \"\"\"\n",
    "    title : 뉴스 제목 (필수)\n",
    "    content : 뉴스 원문 \n",
    "    lan : 언어 (ko : 한국어, en: 영문)\n",
    "    printout : 결과물 출력 여부 (기본값 True)\n",
    "    get_return : 결과물 리턴 여부 (기본값 True) \n",
    "      리턴값 : 뉴스원문, 핵심요약(3개), 감성분석결과(긍정/부정/중립), 긍정점수, 중립점수, 부정점수    \n",
    "    \"\"\"\n",
    "\n",
    "    # 번역 (파파고) \n",
    "    def get_translate(text):        \n",
    "        data = {'text'   : text,\n",
    "                'source' : 'en',\n",
    "                'target' : 'ko'}\n",
    "\n",
    "        url = \"https://naveropenapi.apigw.ntruss.com/nmt/v1/translation\"\n",
    "        \n",
    "        header = {\"X-NCP-APIGW-API-KEY-ID\":client_id,\n",
    "                  \"X-NCP-APIGW-API-KEY\":client_secret}\n",
    "\n",
    "        response = requests.post(url, headers=header, data=data)\n",
    "        rescode = response.status_code\n",
    "\n",
    "        if(rescode==200):\n",
    "            send_data = response.json()\n",
    "            trans_data = (send_data['message']['result']['translatedText'])\n",
    "            if printout:\n",
    "                print(\"=== 한글번역본 ===\")\n",
    "                print(trans_data) \n",
    "            return trans_data\n",
    "        else:\n",
    "            print(\"Error Code:\" , rescode)\n",
    "            \n",
    "    # 핵심요약 (클로바)\n",
    "    def get_summary(title, content, \n",
    "                    language = \"ko\", model = \"news\", tone = \"2\", summaryCount = \"3\"):    \n",
    "        \"\"\"\n",
    "        출처 : https://bit.ly/3wjSoP8\n",
    "        \n",
    "        파라미터 :\n",
    "        language = \"ko\"     # Language of document (ko, ja )\n",
    "        model = \"news\"      # Model used for summaries (general, news)\n",
    "        tone = \"2\"          # Converts the tone of the summarized result. (0, 1, 2, 3)\n",
    "        summaryCount = \"3\"  # This is the number of sentences for the summarized document.    \n",
    "        \"\"\"\n",
    "        \n",
    "        url = \"https://naveropenapi.apigw.ntruss.com/text-summary/v1/summarize\"\n",
    "        \n",
    "        headers = {\"X-NCP-APIGW-API-KEY-ID\":client_id,\n",
    "                   \"X-NCP-APIGW-API-KEY\":client_secret,\n",
    "                   \"Content-Type\": \"application/json\"}\n",
    "        \n",
    "        data = {\n",
    "            \"document\": {\n",
    "            \"title\": title,\n",
    "            \"content\" : content\n",
    "            },\n",
    "            \"option\": {\n",
    "            \"language\": language,\n",
    "            \"model\": model,\n",
    "            \"tone\": tone,\n",
    "            \"summaryCount\" : summaryCount\n",
    "            }\n",
    "        }\n",
    "        \n",
    "        response = requests.post(url, data=json.dumps(data), headers=headers)\n",
    "        rescode = response.status_code\n",
    "        \n",
    "        if(rescode == 200):\n",
    "            res = json.loads(response.text)['summary'].split('\\n')  # 요약별 리스트 반환 \n",
    "            if printout:\n",
    "                print(\"\\n=== 핵심요약 ===\")\n",
    "                for i, txt in enumerate(res):\n",
    "                    print(\"#\"+str(i+1)+'.', txt)\n",
    "            return res\n",
    "        else:\n",
    "            print(\"Error : \" + response.text)\n",
    "            return None\n",
    "\n",
    "    # 감성분석  (클로바)\n",
    "    def get_sentiment(content):\n",
    "\n",
    "        url=\"https://naveropenapi.apigw.ntruss.com/sentiment-analysis/v1/analyze\"\n",
    "\n",
    "        headers = {\n",
    "            \"X-NCP-APIGW-API-KEY-ID\": client_id,\n",
    "            \"X-NCP-APIGW-API-KEY\": client_secret,\n",
    "            \"Content-Type\": \"application/json\"\n",
    "        }\n",
    "\n",
    "        data = {\n",
    "          \"content\": content\n",
    "        }\n",
    "\n",
    "        response = requests.post(url, data=json.dumps(data), headers=headers)\n",
    "        rescode = response.status_code\n",
    "\n",
    "        if(rescode == 200):        \n",
    "            sentiment = json.loads(response.text)['document']['sentiment'] \n",
    "            pos_score = json.loads(response.text)['document']['confidence']['positive']\n",
    "            neg_score = json.loads(response.text)['document']['confidence']['negative']\n",
    "            neu_score = json.loads(response.text)['document']['confidence']['neutral']\n",
    "            if printout:\n",
    "                print(\"\\n=== 감성분석 ===\")\n",
    "                print(\"판정: {}\\n점수: 긍정 {}, 중립 {}, 부정 {}\".format(sentiment, pos_score, neu_score, neg_score)) \n",
    "            return sentiment, pos_score, neu_score, neg_score\n",
    "            \n",
    "        else:\n",
    "            print(\"Error : \" + response.text)\n",
    "            return None            \n",
    "            \n",
    "\n",
    "\n",
    "    if lan=='en':  # 영문의 경우 한글로 번역 \n",
    "        content = get_translate(content)\n",
    "    content_summary = get_summary(title, content)\n",
    "    sentiment, pos_score, neu_score, neg_score = get_sentiment(content[:500]) # 500글자까지만 보내기\n",
    "       \n",
    "    if get_return:\n",
    "        return content, content_summary, sentiment, pos_score, neu_score, neg_score   \n",
    "    else:\n",
    "        return None"
   ]
  },
  {
   "cell_type": "markdown",
   "id": "62b16554",
   "metadata": {},
   "source": [
    "---\n",
    "### 검증 1. 영문 "
   ]
  },
  {
   "cell_type": "code",
   "execution_count": 5,
   "id": "21f43d53",
   "metadata": {},
   "outputs": [
    {
     "name": "stdout",
     "output_type": "stream",
     "text": [
      "=== 한글번역본 ===\n",
      "미국 증시는 제롬 파월 연방준비제도이사회(FRB) 의장으로부터 중앙은행이 수십년 만에 최고치를 경신하고 있는 인플레이션을 억제하기 위해 정책을 사용할 것이라는 확신을 얻으면서 상승세로 장을 마쳤다.\n",
      "S&P 500지수는 소폭 상승했다. 우량주 지수는 화요일의 정규 거래일을 2% 상승한 4,088.85로 마감했다. 지난 한 달 동안 내리막길을 걷던 기술주와 성장주들이 일부 손실을 회복하며 나스닥 지수를 2.8% 상승시켰다. 그리고 순환형 소형주 러셀 2000도 3.2% 상승하며 최근 손실을 일부 상쇄했다.\n",
      "화요일 시장의 움직임은 소비지출과 제조업 생산이 모두 견조하다는 것을 보여주는 미국의 경제활동에 대한 두 가지 확실한 보고에 이어 나왔다. 미국의 소매판매는 3월에 월별 1.4%의 대폭 상향 조정된 후 4월에 0.9%의 비율로 증가했는데, 이는 소비자가격이 1980년대 이후 가장 빠른 속도로 상승했음에도 불구하고 소비를 계속하고 있음을 시사한다. 미국 산업생산에 대한 최근 인쇄물도 지난달 예상치의 2배 이상인 1.1% 급등하며 예상치를 웃돌았다.\n",
      "\n",
      "=== 핵심요약 ===\n",
      "#1. 미국 증시는 제롬 파월 연방준비제도이사회(FRB) 의장으로부터 중앙은행이 수십년 만에 최고치를 경신하고 있는 인플레이션을 억제하기 위해 정책을 사용할 것이라는 확신을 얻으면서 상승세로 장을 마쳤습니다.\n",
      "#2. 화요일 시장의 움직임은 소비지출과 제조업 생산이 모두 견조하다는 것을 보여주는 미국의 경제활동에 대한 두 가지 확실한 보고에 이어 나왔습니다.\n",
      "#3. 미국의 소매판매는 3월에 월별 1.4%의 대폭 상향 조정된 후 4월에 0.9%의 비율로 증가했는데, 이는 소비자가격이 1980년대 이후 가장 빠른 속도로 상승했음에도 불구하고 소비를 계속하고 있음을 시사합니다.\n",
      "\n",
      "=== 감성분석 ===\n",
      "판정: positive\n",
      "점수: 긍정 85.72951, 중립 14.243666, 부정 0.026828866\n"
     ]
    }
   ],
   "source": [
    "title = \"Stock futures rise to extend gains after Powell comments\"\n",
    "\n",
    "content = \"\"\"U.S. stock futures opened higher Tuesday afternoon after rallying during the regular trading day, as investors took in reassurances from Federal Reserve Chair Jerome Powell that the central bank was set on using its policies to bring down inflation still running at multi-decade highs.\n",
    "Contracts on the S&P 500 edged higher. The blue-chip index ended Tuesday's regular trading day higher by 2% to settle at at 4,088.85. Technology and growth stocks that had been beaten down over the past month recovered some losses, sending the Nasdaq higher by 2.8%. And the cyclical small-cap Russell 2000 also shook off some recent losses, climbing 3.2%.\n",
    "The market moves Tuesday came following a couple of solid reports on U.S. economic activity, showing both consumer spending and manufacturing production were holding up strongly. U.S. retail sales grew at a 0.9% rate in April after a sharply upwardly revised 1.4% monthly rise in March, suggesting consumers were continuing to spend even as consumer prices have climbed at the fastest rate since the 1980s. The latest print on U.S. industrial production also exceeded estimates with a jump of 1.1% last month, or more than double the expected rise.\n",
    "\"\"\"\n",
    "\n",
    "ai_news(title, content, lan=\"en\", printout=True, get_return=False)"
   ]
  },
  {
   "cell_type": "markdown",
   "id": "e27b1b5c",
   "metadata": {},
   "source": [
    "---\n",
    "### 검증 2. 한글"
   ]
  },
  {
   "cell_type": "code",
   "execution_count": 6,
   "id": "b061a8cb",
   "metadata": {},
   "outputs": [
    {
     "name": "stdout",
     "output_type": "stream",
     "text": [
      "\n",
      "=== 핵심요약 ===\n",
      "#1. 하나금융투자는 13일 셀트리온이 올해 1분기 간 비용 상승에 따라 시장 기대치에 못 미치는 실적을 거뒀다며 목표주가를 21만원으로 낮췄습니다.\n",
      "#2. 하나금투는 올해 셀트리온이 매출액 2조2095억원(전년 대비 15.6%), 영업이익 7210억원(전년 대비 -4.2%)을 달성할 것으로 전망했습니다.\n",
      "#3. 박재경 하나금투 연구원은 \"셀트리온의 현재 향후 12개월 간 주가수익비율(PER)은 31.2배 수준으로 2019년도의 저점에 가까워졌다\"며 \"추가적인 하락은 제한적\"이라고 내다봤습니다.\n",
      "\n",
      "=== 감성분석 ===\n",
      "판정: negative\n",
      "점수: 긍정 16.641035, 중립 6.448433, 부정 76.91053\n"
     ]
    }
   ],
   "source": [
    "title = \"[클릭 e종목] 셀트리온의 실적 '냉각'…봄이 올까\"\n",
    "\n",
    "content = \"\"\"하나금융투자는 13일 셀트리온이 올해 1분기 간 비용 상승에 따라 시장 기대치에 못 미치는 실적을 거뒀다며 목표주가를 21만원으로 낮췄다.\n",
    "셀트리온은 올해 1분기간 매출액 5506억원을 달성했다. 이는 전년 같은 기간 대비 20.5% 늘어난 수치다. 반면, 영업이익은 같은 기간 -34.5% 줄어든 1423억원을 기록했다. 컨센서스인 매출액 5265억원, 영업이익 1979억원에 못 미치는 수준이다.\n",
    "램시마 IV와 셀트리온 USA 의 진단키트가 매출액을 끌어올렸다. 하지만 상대적으로 수익성이 낮은 램시마 IV와 진단키트의 비중 확대와 렉키로나 관련 재고 자산 상각, 코로나19 흡입제형 연구개발비 등에 따라 영업이익률은 전년 동기 45.4% 대비 낮아진 25.8%를 기록했다\n",
    "하나금투는 올해 셀트리온이 매출액 2조2095억원(전년 대비 15.6%), 영업이익 7210억원(전년 대비 -4.2%)을 달성할 것으로 전망했다.\n",
    "박재경 하나금투 연구원은 \"셀트리온의 현재 향후 12개월 간 주가수익비율(PER)은 31.2배 수준으로 2019년도의 저점에 가까워졌다\"며 \"추가적인 하락은 제한적\"이라고 내다봤다.\n",
    "\"\"\"\n",
    "\n",
    "ai_news(title, content, lan=\"ko\", printout=True, get_return=False)"
   ]
  },
  {
   "cell_type": "code",
   "execution_count": null,
   "id": "5f9be068",
   "metadata": {},
   "outputs": [],
   "source": []
  }
 ],
 "metadata": {
  "kernelspec": {
   "display_name": "Python 3",
   "language": "python",
   "name": "python3"
  },
  "language_info": {
   "codemirror_mode": {
    "name": "ipython",
    "version": 3
   },
   "file_extension": ".py",
   "mimetype": "text/x-python",
   "name": "python",
   "nbconvert_exporter": "python",
   "pygments_lexer": "ipython3",
   "version": "3.8.8"
  }
 },
 "nbformat": 4,
 "nbformat_minor": 5
}
